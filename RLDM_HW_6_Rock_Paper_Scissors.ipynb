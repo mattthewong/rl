{
 "cells": [
  {
   "cell_type": "markdown",
   "metadata": {
    "collapsed": true,
    "pycharm": {
     "name": "#%% md\n"
    }
   },
   "source": [
    "##### Reinforcement Learning and Decision Making &nbsp;&nbsp;&nbsp;&nbsp;&nbsp;&nbsp;&nbsp;&nbsp;&nbsp;&nbsp; &nbsp;&nbsp;&nbsp;&nbsp;&nbsp;&nbsp;&nbsp;&nbsp;&nbsp;&nbsp;&nbsp;&nbsp;&nbsp;&nbsp;&nbsp;&nbsp;&nbsp;&nbsp;&nbsp;&nbsp;&nbsp;&nbsp;&nbsp;&nbsp;&nbsp;&nbsp;&nbsp;&nbsp;&nbsp;&nbsp;&nbsp;&nbsp;&nbsp;&nbsp;&nbsp;&nbsp;&nbsp;&nbsp;&nbsp;&nbsp;&nbsp;&nbsp;&nbsp;&nbsp;&nbsp;&nbsp;&nbsp;&nbsp;&nbsp;&nbsp;&nbsp;&nbsp;&nbsp;&nbsp;&nbsp;&nbsp;&nbsp;&nbsp;&nbsp;&nbsp;&nbsp;&nbsp;&nbsp;&nbsp;&nbsp;&nbsp;&nbsp;&nbsp;&nbsp;&nbsp;&nbsp;&nbsp;&nbsp;&nbsp;&nbsp;&nbsp;&nbsp;&nbsp;&nbsp;Homework #6\n",
    "\n",
    "# &nbsp;&nbsp;&nbsp;&nbsp;&nbsp;&nbsp;&nbsp;&nbsp;&nbsp;&nbsp; &nbsp;&nbsp;&nbsp;&nbsp;&nbsp;&nbsp;&nbsp;&nbsp;&nbsp;&nbsp;&nbsp;&nbsp;&nbsp;&nbsp;&nbsp;&nbsp;&nbsp;&nbsp;&nbsp;&nbsp;&nbsp;&nbsp;&nbsp;&nbsp;&nbsp;&nbsp;&nbsp;&nbsp;&nbsp;&nbsp;&nbsp;&nbsp;&nbsp;&nbsp;&nbsp;&nbsp;&nbsp;&nbsp;&nbsp;&nbsp;Rock Paper Scissors"
   ]
  },
  {
   "cell_type": "markdown",
   "metadata": {},
   "source": [
    "## Description\n",
    "\n",
    "Rock, Paper, Scissors is a popular game among kids.  It is also a good game to study Game Theory, Nash Equilibria, Mixed Strategies, and Linear Programming.\n",
    "\n",
    "<img src=https://d1b10bmlvqabco.cloudfront.net/paste/jzfsa4a37jf4aq/b05d4e6a42d0dc2bc2bce1f2a0097a19cbf364038b8df44793e23d0552f55a52/rps.png width=\"400\"/>\n",
    "\n",
    "## Procedure\n",
    "\n",
    "For this assignment, you are asked to compute the Nash equilibrium for the given zero sum games.  You will be given the reward matrix 'R' for Player A.  Since this is a\n",
    "zero-sum game, Player B’s reward matrix will be the opposite (additive inverse) of Player A’s matrix.\n",
    "The first column of\n",
    "the matrix specifies player A's reward for playing rock against player B's rock (row 1),\n",
    "paper (row 2) and scissors (row 3).  The second column specifies player A's reward\n",
    "for playing paper, and the third column player A's reward for playing scissors.\n",
    "\n",
    "- You need to find the ideal mixed strategy for the game. While there are different ways to calculate this, we will use Linear Programming in the hopes of preparing you for your final project. Use the Linear Programming solver CVXPY (<https://www.cvxpy.org/index.html>) to create a program that can solve Rock, Paper, Scissors games with arbitrary reward matrices.  For an example of how to create a linear program to solve Rock, Paper, Scissors, see Littman 1994.\n",
    "\n",
    "- You will return a vector of the Nash equilibrium probabilities for player A found by your linear program.\n",
    "\n",
    "- Your answer must be correct to $3$ decimal places, truncated (e.g., 3.14159265 becomes 3.141).\n",
    "\n",
    "## Resources\n",
    "\n",
    "The concepts explored in this homework are covered by:\n",
    "\n",
    "-  Lesson 11A: Game Theory\n",
    "\n",
    "-  Lesson 11B: Game Theory Reloaded\n",
    "\n",
    "-  'Markov games as a framework for multi-agent reinforcement learning', Littman 1994\n",
    "\n",
    "-  'A polynomial-time Nash equilibrium algorithm for repeated games', Littman, Stone 2005\n",
    "\n",
    "-  <https://www.cvxpy.org/short_course/index.html>\n",
    "\n",
    "## Submission\n",
    "\n",
    "-   The due date is indicated on the Canvas page for this assignment.\n",
    "    Make sure you have your timezone in Canvas set to ensure the\n",
    "    deadline is accurate.\n",
    "\n",
    "-   Submit your finished notebook on Gradescope. Your grade is based on\n",
    "    a set of hidden test cases. You will have unlimited submissions.\n",
    "    By default, the last score is kept.  You can also set a particular\n",
    "    submission as active in the submission history, in which case that\n",
    "    submission will determine your grade.\n",
    "\n",
    "-   Use the template below to implement your code. We have also provided\n",
    "    some test cases for you. If your code passes the given test cases,\n",
    "    it will run (though possibly not pass all the tests) on Gradescope.\n",
    "\n",
    "-   Gradescope is using *python 3.6.x*, *cvxpy==1.0.26*, and *numpy==1.18.0*, and you can\n",
    "    use any core library (i.e., anything in the Python standard library).\n",
    "    No other library can be used.  Also, make sure the name of your\n",
    "    notebook matches the name of the provided notebook.  Gradescope times\n",
    "    out after 10 minutes."
   ]
  },
  {
   "cell_type": "code",
   "execution_count": 17,
   "metadata": {},
   "outputs": [],
   "source": [
    "################\n",
    "# DO NOT REMOVE\n",
    "# Versions\n",
    "# cvxpy==1.0.26\n",
    "# numpy==1.18.0\n",
    "################\n",
    "import numpy as np\n",
    "import cvxpy as cp\n",
    "\n",
    "class RPSAgent(object):\n",
    "    def __init__(self):\n",
    "        pass\n",
    "\n",
    "    def solve(self, R):\n",
    "        size = len(R)\n",
    "        arr_1 = []\n",
    "        arr_2 = []\n",
    "        for i in range(size-1):\n",
    "            arr_1.append(1)\n",
    "            arr_2.append(0)\n",
    "        arr_1.append(1)\n",
    "\n",
    "        a = np.array(R).transpose() * -1\n",
    "        a = np.insert(np.vstack((a, [[1, 1, 1], [-1, -1, -1]])), 0, arr_1+arr_2, axis=1)\n",
    "        \n",
    "        b = np.array([0, 0, 0, 1, -1])\n",
    "        c = np.array([-1, 0, 0, 0])\n",
    "\n",
    "        x = cp.Variable(size + 1, pos=True)\n",
    "        prob = cp.Problem(cp.Minimize(c.T@x), [a@x <= b, x >= 0])\n",
    "        prob.solve()\n",
    "        \n",
    "        return x.value[1:]"
   ]
  },
  {
   "cell_type": "code",
   "execution_count": 18,
   "metadata": {
    "tags": []
   },
   "outputs": [
    {
     "name": "stderr",
     "output_type": "stream",
     "text": [
      "test_case_1 (__main__.TestRPS) ... ok\n",
      "test_case_2 (__main__.TestRPS) ... ok\n",
      "\n",
      "----------------------------------------------------------------------\n",
      "Ran 2 tests in 0.023s\n",
      "\n",
      "OK\n"
     ]
    },
    {
     "data": {
      "text/plain": [
       "<unittest.main.TestProgram at 0x7f8dfbfe9d30>"
      ]
     },
     "execution_count": 18,
     "metadata": {},
     "output_type": "execute_result"
    }
   ],
   "source": [
    "## DO NOT MODIFY THIS CODE.  This code will ensure that you submission is correct \n",
    "## and will work proberly with the autograder\n",
    "\n",
    "import unittest\n",
    "\n",
    "class TestRPS(unittest.TestCase):\n",
    "    @classmethod\n",
    "    def setUpClass(cls):\n",
    "        cls.agent = RPSAgent()\n",
    "\n",
    "    def test_case_1(self):\n",
    "        R = [\n",
    "            [0,1,-1],[-1,0,1],[1,-1,0]\n",
    "        ]\n",
    "\n",
    "        np.testing.assert_almost_equal(\n",
    "            self.agent.solve(R),\n",
    "            np.array([0.333, 0.333, 0.333]),\n",
    "            decimal=3\n",
    "        )\n",
    "        \n",
    "    def test_case_2(self):\n",
    "        R = [[0,  2, -1],\n",
    "            [-2,  0,  1],\n",
    "            [1, -1,  0]]\n",
    "    \n",
    "        np.testing.assert_almost_equal(\n",
    "            self.agent.solve(R),\n",
    "            np.array([0.250, 0.250, 0.500]),\n",
    "            decimal=3\n",
    "        )\n",
    "\n",
    "unittest.main(argv=[''], verbosity=2, exit=False)"
   ]
  },
  {
   "cell_type": "code",
   "execution_count": null,
   "metadata": {},
   "outputs": [],
   "source": []
  }
 ],
 "metadata": {
  "kernelspec": {
   "display_name": "Python 3",
   "language": "python",
   "name": "python3"
  },
  "language_info": {
   "codemirror_mode": {
    "name": "ipython",
    "version": 3
   },
   "file_extension": ".py",
   "mimetype": "text/x-python",
   "name": "python",
   "nbconvert_exporter": "python",
   "pygments_lexer": "ipython3",
   "version": "3.6.6"
  }
 },
 "nbformat": 4,
 "nbformat_minor": 1
}